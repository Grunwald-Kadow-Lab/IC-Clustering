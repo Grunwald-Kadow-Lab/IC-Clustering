{
 "cells": [
  {
   "cell_type": "markdown",
   "metadata": {},
   "source": [
    "<h1>Clustering Based On Max Projected Images</h1>\n",
    "The idea is, instead of training the KMeans model with single frames from IC files, we can use max projection and reduce the X,Y,Z,T stacks to X,Y,Z stacks. This means around a 100-fold decrease in the memory requirement -because we won't need to hold thousands of frames per a TIFF stack in the memory, but only 32 images (as the Z dimensions' size is 32)-. I want to try this here.\n",
    "\n",
    "\n",
    "The main suggestion would be using more than 32 clusters to over come the 3D depth differences between frames.In order to keep the spatial ordering, I encode every frame with its position on the Z-depth and because of that, if someone uses 32 clusters -or less- the clustering would probably be only based on that difference; to overcome this disadvantage I highly suggest using more -maybe many more-clusters to be able to separate depth encoding and real clustering. I may be wrong, this is only a hunch."
   ]
  },
  {
   "cell_type": "code",
   "execution_count": 2,
   "metadata": {},
   "outputs": [],
   "source": [
    "import glob\n",
    "import nibabel as nib\n",
    "import numpy as np\n",
    "import os\n",
    "import cv2\n",
    "\n",
    "from sklearn.cluster import KMeans\n",
    "import pickle\n",
    "import matplotlib.pyplot as plt\n",
    "import pandas as pd\n",
    "from sklearn.model_selection import train_test_split\n",
    "from sklearn.ensemble import RandomForestClassifier\n",
    "from sklearn.metrics import accuracy_score\n",
    "from ipywidgets import *\n",
    "import ipywidgets as widgets\n"
   ]
  },
  {
   "cell_type": "markdown",
   "metadata": {},
   "source": [
    "Setting the parameters for the whole run"
   ]
  },
  {
   "cell_type": "code",
   "execution_count": 18,
   "metadata": {},
   "outputs": [],
   "source": [
    "#The r at the beginning of the string is important for path stuff\n",
    "#The ** is for recursive search for folders\n",
    "#The * is for any file with the ending 'IC.nii' , but you can write something else\n",
    "IC_path = \"\\**\\*IC.nii\"\n",
    "\n",
    "#Number of clusters for kmeans\n",
    "n_clusters = 40\n",
    "\n",
    "#Number of sample ICs to be used, 10 ICs take around 15-20 GB of RAM, so calculate accordingly\n",
    "n_samples = 5\n",
    "\n",
    "#IC resize resolution. All the 2D frames that make up the 4D nifti files will be resized to this resolution.\n",
    "resize_resolution = (135,80)\n",
    "\n",
    "#The file name and path the model that is going to be saved.If you want to save it in another folder,\n",
    "#Change the path accordingly\n",
    "km_model_file_name = \"Models/km_model_\"+str(n_clusters)+'_using'+str(n_samples)+\"samples_and_max_projection.pkl\"\n",
    "\n",
    "#Do you want to save the model?\n",
    "save_model = True\n",
    "\n",
    "#If you want to plot cluster centers\n",
    "plot_centers = False\n",
    "\n",
    "#If you want to train a classifier?? ONLY WORKS WITH PAUL'S DATA FOR NOW\n",
    "train_classifier = False\n",
    "\n",
    "\n",
    "#If you want to plot cluster centers in depth order\n",
    "plot_centers_in_depth_order = True\n",
    "\n"
   ]
  },
  {
   "cell_type": "markdown",
   "metadata": {},
   "source": [
    "<h4>Finding the IC files</h4>"
   ]
  },
  {
   "cell_type": "code",
   "execution_count": 11,
   "metadata": {},
   "outputs": [
    {
     "data": {
      "text/plain": [
       "286"
      ]
     },
     "execution_count": 11,
     "metadata": {},
     "output_type": "execute_result"
    }
   ],
   "source": [
    "ic_paths = glob.glob(IC_path,recursive=True)\n",
    "len(ic_paths)"
   ]
  },
  {
   "cell_type": "markdown",
   "metadata": {},
   "source": [
    "Loading a sample of the IC files."
   ]
  },
  {
   "cell_type": "code",
   "execution_count": 12,
   "metadata": {},
   "outputs": [],
   "source": [
    "np.random.seed(0)\n",
    "random_ic_paths = np.random.choice(ic_paths,n_samples)"
   ]
  },
  {
   "cell_type": "code",
   "execution_count": 13,
   "metadata": {},
   "outputs": [],
   "source": [
    "random_ics = []\n",
    "for ic_file in random_ic_paths:\n",
    "    ic = nib.load(ic_file)\n",
    "    random_ics.append(ic)"
   ]
  },
  {
   "cell_type": "code",
   "execution_count": 14,
   "metadata": {},
   "outputs": [],
   "source": [
    "\n",
    "#Slice the ics frames and put them in an array\n",
    "random_ics_extracted_and_flattened_frames = {}\n",
    "for ic in random_ics:\n",
    "    random_ics_extracted_and_flattened_frames[ic.get_filename()] = []\n",
    "    ic_data = ic.get_fdata().T\n",
    "    max_projected_ic_data = ic_data.max(axis=0)\n",
    "    for i,component in enumerate(max_projected_ic_data):\n",
    "        #Resize the component to 80x135, the value is arbitrary, all the IC files I have seen are 135 pixels wide,the row count changes\n",
    "        #It may be changed\n",
    "        resized_component = cv2.resize(component, resize_resolution, interpolation=cv2.INTER_AREA)\n",
    "        #adding a 1000 times slice index so that we can hopefully keep track of the slice positions\n",
    "        resized_component = resized_component + 1000*i\n",
    "        #Reshape the 2D array to 1D array, because KMeans can't do 2d\n",
    "        random_ics_extracted_and_flattened_frames[ic.get_filename()].append(resized_component.reshape(resized_component.shape[0]*resized_component.shape[1]))\n"
   ]
  },
  {
   "cell_type": "code",
   "execution_count": 15,
   "metadata": {},
   "outputs": [
    {
     "data": {
      "text/plain": [
       "(157, 10800)"
      ]
     },
     "execution_count": 15,
     "metadata": {},
     "output_type": "execute_result"
    }
   ],
   "source": [
    "flattened_image_size = resize_resolution[0]*resize_resolution[1]\n",
    "array_for_clustering = np.empty((0,flattened_image_size))\n",
    "for key in random_ics_extracted_and_flattened_frames.keys():\n",
    "    #concatenate array_to_added to array for clustering\n",
    "    array_for_clustering = np.concatenate((array_for_clustering,np.array(random_ics_extracted_and_flattened_frames[key])),axis=0)\n",
    "    random_ics_extracted_and_flattened_frames[key] =''\n",
    "array_for_clustering.shape"
   ]
  },
  {
   "cell_type": "code",
   "execution_count": 19,
   "metadata": {},
   "outputs": [
    {
     "name": "stderr",
     "output_type": "stream",
     "text": [
      "c:\\Users\\mreki\\miniconda3\\envs\\ic_clustering\\Lib\\site-packages\\sklearn\\cluster\\_kmeans.py:1436: UserWarning: KMeans is known to have a memory leak on Windows with MKL, when there are less chunks than available threads. You can avoid it by setting the environment variable OMP_NUM_THREADS=1.\n",
      "  warnings.warn(\n"
     ]
    }
   ],
   "source": [
    "km = KMeans(n_clusters=n_clusters,random_state=42,n_init=\"auto\")\n",
    "km = km.fit(array_for_clustering)\n",
    "\n",
    "\n",
    "if save_model:\n",
    "    with open(km_model_file_name,\"wb\") as f:\n",
    "        pickle.dump(km,f)"
   ]
  },
  {
   "cell_type": "markdown",
   "metadata": {},
   "source": [
    "Displaying the cluster centers. Warning:THESE ARE NOT ORDERED BY DEPTH."
   ]
  },
  {
   "cell_type": "code",
   "execution_count": 20,
   "metadata": {},
   "outputs": [],
   "source": [
    "if plot_centers:\n",
    "# The '//' mean it is an integer division, so the result is an integer\n",
    "    fig, ax = plt.subplots(n_clusters//4,4, figsize=(4*4,n_clusters))\n",
    "    centers = km.cluster_centers_.reshape(n_clusters,-1,resize_resolution[0])\n",
    "\n",
    "\n",
    "\n",
    "    for i, (axi, center) in enumerate(zip(ax.flat, centers)):\n",
    "        axi.set(xticks=[], yticks=[])\n",
    "        axi.imshow(center, interpolation='nearest', cmap='gray')\n",
    "        axi.set_title(\"Cluster \"+str(i) + \"Slice: \"+str(center.mean()//1000))"
   ]
  },
  {
   "cell_type": "markdown",
   "metadata": {},
   "source": [
    "This function is only necessary for training a classifier on Paul's data. It finds experimental conditions based on file names."
   ]
  },
  {
   "cell_type": "code",
   "execution_count": 57,
   "metadata": {},
   "outputs": [],
   "source": [
    "def create_ic_paths_and_conditions_df(ic_paths):\n",
    "    ic_paths_and_conditions = {\"ic_paths\":ic_paths,\"starved_fed\":[],\"odor_taste\":[]}\n",
    "    for ic_path in ic_paths:\n",
    "        if \"Fed\" in ic_path:\n",
    "            ic_paths_and_conditions[\"starved_fed\"].append(\"Fed\")\n",
    "        else:\n",
    "            ic_paths_and_conditions[\"starved_fed\"].append(\"Starved\")\n",
    "\n",
    "        if \"Odor\" in ic_path:\n",
    "            ic_paths_and_conditions[\"odor_taste\"].append(\"Odor\")\n",
    "            continue\n",
    "        elif \"Taste\" in ic_path:\n",
    "            ic_paths_and_conditions[\"odor_taste\"].append(\"Taste\")\n",
    "            continue\n",
    "        else:\n",
    "            ic_paths_and_conditions[\"odor_taste\"].append(\"Multi\")\n",
    "            continue\n",
    "    return pd.DataFrame(ic_paths_and_conditions)\n"
   ]
  },
  {
   "cell_type": "markdown",
   "metadata": {},
   "source": [
    "This function is also only necessary for Paul's data -for now- as it is used to create a training dataframe for classifier training. It could be extended to be used with other experiments."
   ]
  },
  {
   "cell_type": "code",
   "execution_count": 58,
   "metadata": {},
   "outputs": [],
   "source": [
    "def create_training_df(random_ics,km):\n",
    "\n",
    "    max_value_for_component_for_each_IC = {}\n",
    "    for ic in random_ics:\n",
    "        max_value_for_component_for_each_IC[ic.get_filename()] = {}\n",
    "    print(max_value_for_component_for_each_IC.keys())\n",
    "\n",
    "    for ic in random_ics:\n",
    "        max_value_for_component_for_current_IC = {}\n",
    "        for key in range(n_clusters):\n",
    "            max_value_for_component_for_current_IC[key] = 0\n",
    "        ic_data = ic.get_fdata().T\n",
    "        max_projected_ic_data = ic_data.max(axis=0)\n",
    "\n",
    "        \n",
    "        for i,frame in enumerate(max_projected_ic_data):\n",
    "            #We match the shape of the data that the kmeans was trained with\n",
    "            #flattened_frame = frame.reshape(frame.shape[0]*frame.shape[1])[0:km.cluster_centers_.shape[1]]\n",
    "            #The 1000*i is for encoding the depth value of the frame\n",
    "            flattened_frame = cv2.resize(frame, (80,135),interpolation=cv2.INTER_AREA).reshape(135*80)+1000*i\n",
    "            predicted_cluster = km.predict([flattened_frame])\n",
    "            max_value_of_this_frame = np.max(flattened_frame)\n",
    "            if max_value_of_this_frame > max_value_for_component_for_current_IC[predicted_cluster[0]]:\n",
    "                max_value_for_component_for_current_IC[predicted_cluster[0]] = max_value_of_this_frame\n",
    "        max_value_for_component_for_each_IC[ic.get_filename()] = max_value_for_component_for_current_IC\n",
    "\n",
    "    max_value_for_component_for_each_IC_df = pd.DataFrame(max_value_for_component_for_each_IC)\n",
    "    max_value_df = max_value_for_component_for_each_IC_df.T.reset_index().rename(columns={\"index\":\"IC_file_path\"})\n",
    "    random_ic_paths_and_conditions_df = create_ic_paths_and_conditions_df(max_value_df['IC_file_path'])\n",
    "    print(len(random_ic_paths_and_conditions_df))\n",
    "    training_df = pd.merge(random_ic_paths_and_conditions_df,max_value_df,left_on=\"ic_paths\",right_on=\"IC_file_path\").drop(columns=\"IC_file_path\")\n",
    "\n",
    "\n",
    "\n",
    "    return training_df"
   ]
  },
  {
   "cell_type": "code",
   "execution_count": 76,
   "metadata": {},
   "outputs": [
    {
     "name": "stdout",
     "output_type": "stream",
     "text": [
      "dict_keys([\"//172.24.64.12/data/gklab/OgulcanCingiler/Paul's dff Files/Multi Sense Aug 22 (dFF data)/Excluded/DataPaul497ss1regdFF60skf256Smith20_4_129IC.nii\", \"//172.24.64.12/data/gklab/OgulcanCingiler/Paul's dff Files/Multi Sense Aug 22 (dFF data)/Excluded/DataPaul498ss1regdFF60skf212Smith20_4_100IC.nii\", \"//172.24.64.12/data/gklab/OgulcanCingiler/Paul's dff Files/Multi Sense Aug 22 (dFF data)/Excluded/DataPaul499ss1regdFF60skf272Smith20_4_132IC.nii\", \"//172.24.64.12/data/gklab/OgulcanCingiler/Paul's dff Files/Multi Sense Aug 22 (dFF data)/Fed/DataPaul482ss1regdFF60skf256Smith20_4_140IC.nii\", \"//172.24.64.12/data/gklab/OgulcanCingiler/Paul's dff Files/Multi Sense Aug 22 (dFF data)/Fed/DataPaul483ss1regdFF60skf202Smith20_4_106IC.nii\", \"//172.24.64.12/data/gklab/OgulcanCingiler/Paul's dff Files/Multi Sense Aug 22 (dFF data)/Fed/DataPaul484ss1regdFF60skf216Smith20_4_122IC.nii\", \"//172.24.64.12/data/gklab/OgulcanCingiler/Paul's dff Files/Multi Sense Aug 22 (dFF data)/Fed/DataPaul485ss1regdFF60skf220Smith20_4_110IC.nii\", \"//172.24.64.12/data/gklab/OgulcanCingiler/Paul's dff Files/Multi Sense Aug 22 (dFF data)/Fed/DataPaul486ss1regdFF60skf212Smith20_4_107IC.nii\", \"//172.24.64.12/data/gklab/OgulcanCingiler/Paul's dff Files/Multi Sense Aug 22 (dFF data)/Fed/DataPaul487ss1regdFF60skf224Smith20_4_114IC.nii\", \"//172.24.64.12/data/gklab/OgulcanCingiler/Paul's dff Files/Multi Sense Aug 22 (dFF data)/Fed/DataPaul488ss1regdFF60skf218Smith20_4_113IC.nii\", \"//172.24.64.12/data/gklab/OgulcanCingiler/Paul's dff Files/Multi Sense Aug 22 (dFF data)/Fed/DataPaul489ss1regdFF60skf192Smith20_4_102IC.nii\", \"//172.24.64.12/data/gklab/OgulcanCingiler/Paul's dff Files/Multi Sense Aug 22 (dFF data)/Fed/DataPaul490ss1regdFF60skf204Smith20_4_113IC.nii\", \"//172.24.64.12/data/gklab/OgulcanCingiler/Paul's dff Files/Multi Sense Aug 22 (dFF data)/Fed/DataPaul491ss1regdFF60skf232Smith20_4_123IC.nii\"])\n",
      "13\n",
      "dict_keys([\"//172.24.64.12/data/gklab/OgulcanCingiler/Paul's dff Files/Multi Sense Aug 22 (dFF data)/Fed/DataPaul492ss1regdFF60skf222Smith20_4_115IC.nii\", \"//172.24.64.12/data/gklab/OgulcanCingiler/Paul's dff Files/Multi Sense Aug 22 (dFF data)/Fed/DataPaul493ss1regdFF60skf240Smith20_4_129IC.nii\", \"//172.24.64.12/data/gklab/OgulcanCingiler/Paul's dff Files/Multi Sense Aug 22 (dFF data)/Fed/DataPaul494ss1regdFF60skf168Smith20_4_84IC.nii\", \"//172.24.64.12/data/gklab/OgulcanCingiler/Paul's dff Files/Multi Sense Aug 22 (dFF data)/Fed/DataPaul495ss1regdFF60skf180Smith20_4_89IC.nii\", \"//172.24.64.12/data/gklab/OgulcanCingiler/Paul's dff Files/Multi Sense Aug 22 (dFF data)/Fed/DataPaul496ss1regdFF60skf164Smith20_4_75IC.nii\", \"//172.24.64.12/data/gklab/OgulcanCingiler/Paul's dff Files/Multi Sense Aug 22 (dFF data)/Fed/DataPaul518ss1regdFF60skf200Smith20_4_104IC.nii\", \"//172.24.64.12/data/gklab/OgulcanCingiler/Paul's dff Files/Multi Sense Aug 22 (dFF data)/Fed/DataPaul519ss1regdFF60skf206Smith20_4_103IC.nii\", \"//172.24.64.12/data/gklab/OgulcanCingiler/Paul's dff Files/Multi Sense Aug 22 (dFF data)/Fed/DataPaul520ss1regdFF60skf198Smith20_4_102IC.nii\", \"//172.24.64.12/data/gklab/OgulcanCingiler/Paul's dff Files/Multi Sense Aug 22 (dFF data)/Fed/DataPaul521ss1regdFF60skf222Smith20_4_117IC.nii\", \"//172.24.64.12/data/gklab/OgulcanCingiler/Paul's dff Files/Multi Sense Aug 22 (dFF data)/Fed/DataPaul522ss1regdFF60skf240Smith20_4_126IC.nii\", \"//172.24.64.12/data/gklab/OgulcanCingiler/Paul's dff Files/Multi Sense Aug 22 (dFF data)/Fed/DataPaul523ss1regdFF60skf236Smith20_4_135IC.nii\", \"//172.24.64.12/data/gklab/OgulcanCingiler/Paul's dff Files/Multi Sense Aug 22 (dFF data)/Fed/DataPaul530ss1regdFF60skf208Smith20_4_108IC.nii\", \"//172.24.64.12/data/gklab/OgulcanCingiler/Paul's dff Files/Multi Sense Aug 22 (dFF data)/Fed/DataPaul531ss1regdFF60skf230Smith20_4_118IC.nii\"])\n",
      "13\n",
      "26\n",
      "dict_keys([\"//172.24.64.12/data/gklab/OgulcanCingiler/Paul's dff Files/Multi Sense Aug 22 (dFF data)/Fed/DataPaul532ss1regdFF60skf220Smith20_4_119IC.nii\", \"//172.24.64.12/data/gklab/OgulcanCingiler/Paul's dff Files/Multi Sense Aug 22 (dFF data)/Fed/DataPaul533ss1regdFF60skf230Smith20_4_126IC.nii\", \"//172.24.64.12/data/gklab/OgulcanCingiler/Paul's dff Files/Multi Sense Aug 22 (dFF data)/Fed/DataPaul534ss1regdFF60skf174Smith20_4_88IC.nii\", \"//172.24.64.12/data/gklab/OgulcanCingiler/Paul's dff Files/Multi Sense Aug 22 (dFF data)/Fed/DataPaul535ss1regdFF60skf152Smith20_4_77IC.nii\", \"//172.24.64.12/data/gklab/OgulcanCingiler/Paul's dff Files/Multi Sense Aug 22 (dFF data)/Fed/DataPaul542ss1regdFF60skf216Smith20_4_115IC.nii\", \"//172.24.64.12/data/gklab/OgulcanCingiler/Paul's dff Files/Multi Sense Aug 22 (dFF data)/Fed/DataPaul543ss1regdFF60skf188Smith20_4_101IC.nii\", \"//172.24.64.12/data/gklab/OgulcanCingiler/Paul's dff Files/Multi Sense Aug 22 (dFF data)/Fed/DataPaul544ss1regdFF60skf196Smith20_4_101IC.nii\", \"//172.24.64.12/data/gklab/OgulcanCingiler/Paul's dff Files/Multi Sense Aug 22 (dFF data)/Fed/DataPaul545ss1regdFF60skf226Smith20_4_117IC.nii\", \"//172.24.64.12/data/gklab/OgulcanCingiler/Paul's dff Files/Multi Sense Aug 22 (dFF data)/Fed/DataPaul546ss1regdFF60skf206Smith20_4_113IC.nii\", \"//172.24.64.12/data/gklab/OgulcanCingiler/Paul's dff Files/Multi Sense Aug 22 (dFF data)/Fed/DataPaul547ss1regdFF60skf232Smith20_4_125IC.nii\", \"//172.24.64.12/data/gklab/OgulcanCingiler/Paul's dff Files/Multi Sense Aug 22 (dFF data)/Fed/DataPaul548ss1regdFF60skf190Smith20_4_97IC.nii\", \"//172.24.64.12/data/gklab/OgulcanCingiler/Paul's dff Files/Multi Sense Aug 22 (dFF data)/Fed/DataPaul549ss1regdFF60skf198Smith20_4_103IC.nii\", \"//172.24.64.12/data/gklab/OgulcanCingiler/Paul's dff Files/Multi Sense Aug 22 (dFF data)/Fed/DataPaul550ss1regdFF60skf250Smith20_4_137IC.nii\"])\n",
      "13\n",
      "39\n",
      "dict_keys([\"//172.24.64.12/data/gklab/OgulcanCingiler/Paul's dff Files/Multi Sense Aug 22 (dFF data)/Starved/DataPaul500ss1regdFF60skf226Smith20_4_115IC.nii\", \"//172.24.64.12/data/gklab/OgulcanCingiler/Paul's dff Files/Multi Sense Aug 22 (dFF data)/Starved/DataPaul501ss1regdFF60skf240Smith20_4_133IC.nii\", \"//172.24.64.12/data/gklab/OgulcanCingiler/Paul's dff Files/Multi Sense Aug 22 (dFF data)/Starved/DataPaul502ss1regdFF60skf262Smith20_4_139IC.nii\", \"//172.24.64.12/data/gklab/OgulcanCingiler/Paul's dff Files/Multi Sense Aug 22 (dFF data)/Starved/DataPaul503ss1regdFF60skf196Smith20_4_92IC.nii\", \"//172.24.64.12/data/gklab/OgulcanCingiler/Paul's dff Files/Multi Sense Aug 22 (dFF data)/Starved/DataPaul504ss1regdFF60skf188Smith20_4_95IC.nii\", \"//172.24.64.12/data/gklab/OgulcanCingiler/Paul's dff Files/Multi Sense Aug 22 (dFF data)/Starved/DataPaul505ss1regdFF60skf196Smith20_4_94IC.nii\", \"//172.24.64.12/data/gklab/OgulcanCingiler/Paul's dff Files/Multi Sense Aug 22 (dFF data)/Starved/DataPaul506ss1regdFF60skf190Smith20_4_102IC.nii\", \"//172.24.64.12/data/gklab/OgulcanCingiler/Paul's dff Files/Multi Sense Aug 22 (dFF data)/Starved/DataPaul507ss1regdFF60skf214Smith20_4_109IC.nii\", \"//172.24.64.12/data/gklab/OgulcanCingiler/Paul's dff Files/Multi Sense Aug 22 (dFF data)/Starved/DataPaul508ss1regdFF60skf264Smith20_4_141IC.nii\", \"//172.24.64.12/data/gklab/OgulcanCingiler/Paul's dff Files/Multi Sense Aug 22 (dFF data)/Starved/DataPaul509ss1regdFF60skf190Smith20_4_94IC.nii\", \"//172.24.64.12/data/gklab/OgulcanCingiler/Paul's dff Files/Multi Sense Aug 22 (dFF data)/Starved/DataPaul510ss1regdFF60skf208Smith20_4_101IC.nii\", \"//172.24.64.12/data/gklab/OgulcanCingiler/Paul's dff Files/Multi Sense Aug 22 (dFF data)/Starved/DataPaul511ss1regdFF60skf196Smith20_4_100IC.nii\", \"//172.24.64.12/data/gklab/OgulcanCingiler/Paul's dff Files/Multi Sense Aug 22 (dFF data)/Starved/DataPaul512ss1regdFF60skf284Smith20_4_162IC.nii\"])\n",
      "13\n",
      "52\n",
      "dict_keys([\"//172.24.64.12/data/gklab/OgulcanCingiler/Paul's dff Files/Multi Sense Aug 22 (dFF data)/Starved/DataPaul513ss1regdFF60skf226Smith20_4_124IC.nii\", \"//172.24.64.12/data/gklab/OgulcanCingiler/Paul's dff Files/Multi Sense Aug 22 (dFF data)/Starved/DataPaul514ss1regdFF60skf226Smith20_4_121IC.nii\", \"//172.24.64.12/data/gklab/OgulcanCingiler/Paul's dff Files/Multi Sense Aug 22 (dFF data)/Starved/DataPaul524ss1regdFF60skf194Smith20_4_98IC.nii\", \"//172.24.64.12/data/gklab/OgulcanCingiler/Paul's dff Files/Multi Sense Aug 22 (dFF data)/Starved/DataPaul525ss1regdFF60skf206Smith20_4_106IC.nii\", \"//172.24.64.12/data/gklab/OgulcanCingiler/Paul's dff Files/Multi Sense Aug 22 (dFF data)/Starved/DataPaul526ss1regdFF60skf240Smith20_4_124IC.nii\", \"//172.24.64.12/data/gklab/OgulcanCingiler/Paul's dff Files/Multi Sense Aug 22 (dFF data)/Starved/DataPaul527ss1regdFF60skf186Smith20_4_93IC.nii\", \"//172.24.64.12/data/gklab/OgulcanCingiler/Paul's dff Files/Multi Sense Aug 22 (dFF data)/Starved/DataPaul528ss1regdFF60skf190Smith20_4_97IC.nii\", \"//172.24.64.12/data/gklab/OgulcanCingiler/Paul's dff Files/Multi Sense Aug 22 (dFF data)/Starved/DataPaul529ss1regdFF60skf194Smith20_4_98IC.nii\", \"//172.24.64.12/data/gklab/OgulcanCingiler/Paul's dff Files/Multi Sense Aug 22 (dFF data)/Starved/DataPaul536ss1regdFF60skf224Smith20_4_122IC.nii\", \"//172.24.64.12/data/gklab/OgulcanCingiler/Paul's dff Files/Multi Sense Aug 22 (dFF data)/Starved/DataPaul537ss1regdFF60skf166Smith20_4_86IC.nii\", \"//172.24.64.12/data/gklab/OgulcanCingiler/Paul's dff Files/Multi Sense Aug 22 (dFF data)/Starved/DataPaul538ss1regdFF60skf240Smith20_4_124IC.nii\", \"//172.24.64.12/data/gklab/OgulcanCingiler/Paul's dff Files/Multi Sense Aug 22 (dFF data)/Starved/DataPaul539ss1regdFF60skf174Smith20_4_87IC.nii\", \"//172.24.64.12/data/gklab/OgulcanCingiler/Paul's dff Files/Multi Sense Aug 22 (dFF data)/Starved/DataPaul540ss1regdFF60skf200Smith20_4_100IC.nii\"])\n",
      "13\n",
      "65\n",
      "dict_keys([\"//172.24.64.12/data/gklab/OgulcanCingiler/Paul's dff Files/Multi Sense Aug 22 (dFF data)/Starved/DataPaul541ss1regdFF60skf208Smith20_4_108IC.nii\", \"//172.24.64.12/data/gklab/OgulcanCingiler/Paul's dff Files/MultiSense Feb 22 (dFF data)/Fed/DataPaul407ss1_regdFF60skf210Smith20_4_110IC.nii\", \"//172.24.64.12/data/gklab/OgulcanCingiler/Paul's dff Files/MultiSense Feb 22 (dFF data)/Fed/DataPaul408ss1_regdFF60skf204Smith20_4_104IC.nii\", \"//172.24.64.12/data/gklab/OgulcanCingiler/Paul's dff Files/MultiSense Feb 22 (dFF data)/Fed/DataPaul409ss1_regdFF60skf228Smith20_4_117IC.nii\", \"//172.24.64.12/data/gklab/OgulcanCingiler/Paul's dff Files/MultiSense Feb 22 (dFF data)/Fed/DataPaul410ss1_regdFF60skf196Smith20_4_100IC.nii\", \"//172.24.64.12/data/gklab/OgulcanCingiler/Paul's dff Files/MultiSense Feb 22 (dFF data)/Fed/DataPaul411ss1_regdFF60skf220Smith20_4_114IC.nii\", \"//172.24.64.12/data/gklab/OgulcanCingiler/Paul's dff Files/MultiSense Feb 22 (dFF data)/Fed/DataPaul412ss1_regdFF60skf214Smith20_4_108IC.nii\", \"//172.24.64.12/data/gklab/OgulcanCingiler/Paul's dff Files/MultiSense Feb 22 (dFF data)/Fed/DataPaul413ss1_regdFF60skf244Smith20_4_119IC.nii\", \"//172.24.64.12/data/gklab/OgulcanCingiler/Paul's dff Files/MultiSense Feb 22 (dFF data)/Fed/DataPaul414ss1_regdFF60skf172Smith20_4_86IC.nii\", \"//172.24.64.12/data/gklab/OgulcanCingiler/Paul's dff Files/MultiSense Feb 22 (dFF data)/Fed/DataPaul415ss1_regdFF60skf294Smith20_4_142IC.nii\", \"//172.24.64.12/data/gklab/OgulcanCingiler/Paul's dff Files/MultiSense Feb 22 (dFF data)/Fed/DataPaul416ss1_regdFF60skf140Smith20_4_69IC.nii\", \"//172.24.64.12/data/gklab/OgulcanCingiler/Paul's dff Files/MultiSense Feb 22 (dFF data)/Fed/DataPaul417ss1_regdFF60skf126Smith20_4_56IC.nii\", \"//172.24.64.12/data/gklab/OgulcanCingiler/Paul's dff Files/MultiSense Feb 22 (dFF data)/Fed/DataPaul418ss1_regdFF60skf146Smith20_4_63IC.nii\"])\n",
      "13\n",
      "78\n",
      "dict_keys([\"//172.24.64.12/data/gklab/OgulcanCingiler/Paul's dff Files/MultiSense Feb 22 (dFF data)/Fed/DataPaul419ss1_regdFF60skf210Smith20_4_111IC.nii\", \"//172.24.64.12/data/gklab/OgulcanCingiler/Paul's dff Files/MultiSense Feb 22 (dFF data)/Fed/DataPaul420ss1_regdFF60skf192Smith20_4_100IC.nii\", \"//172.24.64.12/data/gklab/OgulcanCingiler/Paul's dff Files/MultiSense Feb 22 (dFF data)/Fed/DataPaul421ss1_regdFF60skf212Smith20_4_107IC.nii\", \"//172.24.64.12/data/gklab/OgulcanCingiler/Paul's dff Files/MultiSense Feb 22 (dFF data)/Fed/DataPaul422ss1_regdFF60skf192Smith20_4_91IC.nii\", \"//172.24.64.12/data/gklab/OgulcanCingiler/Paul's dff Files/MultiSense Feb 22 (dFF data)/Fed/DataPaul423ss1_regdFF60skf178Smith20_4_87IC.nii\", \"//172.24.64.12/data/gklab/OgulcanCingiler/Paul's dff Files/MultiSense Feb 22 (dFF data)/Fed/DataPaul424ss1_regdFF60skf234Smith20_4_111IC.nii\", \"//172.24.64.12/data/gklab/OgulcanCingiler/Paul's dff Files/MultiSense Feb 22 (dFF data)/Fed/DataPaul425ss1_regdFF60skf170Smith20_4_85IC.nii\", \"//172.24.64.12/data/gklab/OgulcanCingiler/Paul's dff Files/MultiSense Feb 22 (dFF data)/Fed/DataPaul426ss1_regdFF60skf120Smith20_4_61IC.nii\", \"//172.24.64.12/data/gklab/OgulcanCingiler/Paul's dff Files/MultiSense Feb 22 (dFF data)/Fed/DataPaul427ss1_regdFF60skf102Smith20_4_49IC.nii\", \"//172.24.64.12/data/gklab/OgulcanCingiler/Paul's dff Files/MultiSense Feb 22 (dFF data)/Fed/DataPaul428ss1_regdFF60skf250Smith20_4_134IC.nii\", \"//172.24.64.12/data/gklab/OgulcanCingiler/Paul's dff Files/MultiSense Feb 22 (dFF data)/Fed/DataPaul429ss1_regdFF60skf246Smith20_4_125IC.nii\", \"//172.24.64.12/data/gklab/OgulcanCingiler/Paul's dff Files/MultiSense Feb 22 (dFF data)/Fed/DataPaul430ss1_regdFF60skf258Smith20_4_134IC.nii\", \"//172.24.64.12/data/gklab/OgulcanCingiler/Paul's dff Files/MultiSense Feb 22 (dFF data)/Fed/DataPaul431ss1_regdFF60skf240Smith20_4_122IC.nii\"])\n",
      "13\n",
      "91\n",
      "dict_keys([\"//172.24.64.12/data/gklab/OgulcanCingiler/Paul's dff Files/MultiSense Feb 22 (dFF data)/Fed/DataPaul432ss1_regdFF60skf198Smith20_4_100IC.nii\", \"//172.24.64.12/data/gklab/OgulcanCingiler/Paul's dff Files/MultiSense Feb 22 (dFF data)/Fed/DataPaul433ss1_regdFF60skf204Smith20_4_104IC.nii\", \"//172.24.64.12/data/gklab/OgulcanCingiler/Paul's dff Files/MultiSense Feb 22 (dFF data)/Fed/DataPaul434ss1_regdFF60skf206Smith20_4_109IC.nii\", \"//172.24.64.12/data/gklab/OgulcanCingiler/Paul's dff Files/MultiSense Feb 22 (dFF data)/Fed/DataPaul435ss1_regdFF60skf234Smith20_4_121IC.nii\", \"//172.24.64.12/data/gklab/OgulcanCingiler/Paul's dff Files/MultiSense Feb 22 (dFF data)/Fed/DataPaul436ss1_regdFF60skf194Smith20_4_98IC.nii\", \"//172.24.64.12/data/gklab/OgulcanCingiler/Paul's dff Files/MultiSense Feb 22 (dFF data)/Fed/DataPaul464ss1_regdFF60skf196Smith20_4_101IC.nii\", \"//172.24.64.12/data/gklab/OgulcanCingiler/Paul's dff Files/MultiSense Feb 22 (dFF data)/Fed/DataPaul465ss1_regdFF60skf198Smith20_4_100IC.nii\", \"//172.24.64.12/data/gklab/OgulcanCingiler/Paul's dff Files/MultiSense Feb 22 (dFF data)/Fed/DataPaul466ss1_regdFF60skf190Smith20_4_96IC.nii\", \"//172.24.64.12/data/gklab/OgulcanCingiler/Paul's dff Files/MultiSense Feb 22 (dFF data)/Fed/DataPaul467ss1_regdFF60skf174Smith20_4_88IC.nii\", \"//172.24.64.12/data/gklab/OgulcanCingiler/Paul's dff Files/MultiSense Feb 22 (dFF data)/Fed/DataPaul468ss1_regdFF60skf166Smith20_4_82IC.nii\", \"//172.24.64.12/data/gklab/OgulcanCingiler/Paul's dff Files/MultiSense Feb 22 (dFF data)/Fed/DataPaul469ss1_regdFF60skf206Smith20_4_104IC.nii\", \"//172.24.64.12/data/gklab/OgulcanCingiler/Paul's dff Files/MultiSense Feb 22 (dFF data)/Starved/DataPaul437ss1_regdFF60skf254Smith20_4_126IC.nii\", \"//172.24.64.12/data/gklab/OgulcanCingiler/Paul's dff Files/MultiSense Feb 22 (dFF data)/Starved/DataPaul438ss1_regdFF60skf158Smith20_4_79IC.nii\"])\n",
      "13\n",
      "104\n",
      "dict_keys([\"//172.24.64.12/data/gklab/OgulcanCingiler/Paul's dff Files/MultiSense Feb 22 (dFF data)/Starved/DataPaul439ss1_regdFF60skf182Smith20_4_89IC.nii\", \"//172.24.64.12/data/gklab/OgulcanCingiler/Paul's dff Files/MultiSense Feb 22 (dFF data)/Starved/DataPaul440ss1_regdFF60skf94Smith20_4_47IC.nii\", \"//172.24.64.12/data/gklab/OgulcanCingiler/Paul's dff Files/MultiSense Feb 22 (dFF data)/Starved/DataPaul441ss1_regdFF60skf98Smith20_4_51IC.nii\", \"//172.24.64.12/data/gklab/OgulcanCingiler/Paul's dff Files/MultiSense Feb 22 (dFF data)/Starved/DataPaul442ss1_regdFF60skf106Smith20_4_52IC.nii\", \"//172.24.64.12/data/gklab/OgulcanCingiler/Paul's dff Files/MultiSense Feb 22 (dFF data)/Starved/DataPaul443ss1_regdFF60skf160Smith20_4_83IC.nii\", \"//172.24.64.12/data/gklab/OgulcanCingiler/Paul's dff Files/MultiSense Feb 22 (dFF data)/Starved/DataPaul444ss1_regdFF60skf160Smith20_4_82IC.nii\", \"//172.24.64.12/data/gklab/OgulcanCingiler/Paul's dff Files/MultiSense Feb 22 (dFF data)/Starved/DataPaul445ss1_regdFF60skf188Smith20_4_96IC.nii\", \"//172.24.64.12/data/gklab/OgulcanCingiler/Paul's dff Files/MultiSense Feb 22 (dFF data)/Starved/DataPaul446ss1_regdFF60skf188Smith20_4_93IC.nii\", \"//172.24.64.12/data/gklab/OgulcanCingiler/Paul's dff Files/MultiSense Feb 22 (dFF data)/Starved/DataPaul447ss1_regdFF60skf200Smith20_4_101IC.nii\", \"//172.24.64.12/data/gklab/OgulcanCingiler/Paul's dff Files/MultiSense Feb 22 (dFF data)/Starved/DataPaul448ss1_regdFF60skf224Smith20_4_111IC.nii\", \"//172.24.64.12/data/gklab/OgulcanCingiler/Paul's dff Files/MultiSense Feb 22 (dFF data)/Starved/DataPaul449ss1_regdFF60skf130Smith20_4_66IC.nii\", \"//172.24.64.12/data/gklab/OgulcanCingiler/Paul's dff Files/MultiSense Feb 22 (dFF data)/Starved/DataPaul450ss1_regdFF60skf166Smith20_4_83IC.nii\", \"//172.24.64.12/data/gklab/OgulcanCingiler/Paul's dff Files/MultiSense Feb 22 (dFF data)/Starved/DataPaul451ss1_regdFF60skf154Smith20_4_78IC.nii\"])\n",
      "13\n",
      "117\n",
      "dict_keys([\"//172.24.64.12/data/gklab/OgulcanCingiler/Paul's dff Files/MultiSense Feb 22 (dFF data)/Starved/DataPaul452ss1_regdFF60skf188Smith20_4_100IC.nii\", \"//172.24.64.12/data/gklab/OgulcanCingiler/Paul's dff Files/MultiSense Feb 22 (dFF data)/Starved/DataPaul453ss1_regdFF60skf202Smith20_4_101IC.nii\", \"//172.24.64.12/data/gklab/OgulcanCingiler/Paul's dff Files/MultiSense Feb 22 (dFF data)/Starved/DataPaul454ss1_regdFF60skf214Smith20_4_110IC.nii\", \"//172.24.64.12/data/gklab/OgulcanCingiler/Paul's dff Files/MultiSense Feb 22 (dFF data)/Starved/DataPaul455ss1_regdFF60skf170Smith20_4_88IC.nii\", \"//172.24.64.12/data/gklab/OgulcanCingiler/Paul's dff Files/MultiSense Feb 22 (dFF data)/Starved/DataPaul456ss1_regdFF60skf174Smith20_4_87IC.nii\", \"//172.24.64.12/data/gklab/OgulcanCingiler/Paul's dff Files/MultiSense Feb 22 (dFF data)/Starved/DataPaul457ss1_regdFF60skf188Smith20_4_92IC.nii\", \"//172.24.64.12/data/gklab/OgulcanCingiler/Paul's dff Files/MultiSense Feb 22 (dFF data)/Starved/DataPaul458ss1_regdFF60skf198Smith20_4_104IC.nii\", \"//172.24.64.12/data/gklab/OgulcanCingiler/Paul's dff Files/MultiSense Feb 22 (dFF data)/Starved/DataPaul459ss1_regdFF60skf208Smith20_4_108IC.nii\", \"//172.24.64.12/data/gklab/OgulcanCingiler/Paul's dff Files/MultiSense Feb 22 (dFF data)/Starved/DataPaul460ss1_regdFF60skf248Smith20_4_129IC.nii\", \"//172.24.64.12/data/gklab/OgulcanCingiler/Paul's dff Files/MultiSense Feb 22 (dFF data)/Starved/DataPaul461ss1_regdFF60skf222Smith20_4_114IC.nii\", \"//172.24.64.12/data/gklab/OgulcanCingiler/Paul's dff Files/MultiSense Feb 22 (dFF data)/Starved/DataPaul462ss1_regdFF60skf276Smith20_4_142IC.nii\", \"//172.24.64.12/data/gklab/OgulcanCingiler/Paul's dff Files/MultiSense Feb 22 (dFF data)/Starved/DataPaul463ss1_regdFF60skf284Smith20_4_147IC.nii\", \"//172.24.64.12/data/gklab/OgulcanCingiler/Paul's dff Files/MultiSense Feb 22 (dFF data)/Starved/DataPaul470ss1_regdFF60skf216Smith20_4_114IC.nii\"])\n",
      "13\n",
      "130\n",
      "dict_keys([\"//172.24.64.12/data/gklab/OgulcanCingiler/Paul's dff Files/MultiSense Feb 22 (dFF data)/Starved/DataPaul471ss1_regdFF60skf226Smith20_4_116IC.nii\", \"//172.24.64.12/data/gklab/OgulcanCingiler/Paul's dff Files/MultiSense Feb 22 (dFF data)/Starved/DataPaul472ss1_regdFF60skf210Smith20_4_111IC.nii\", \"//172.24.64.12/data/gklab/OgulcanCingiler/Paul's dff Files/MultiSense Feb 22 (dFF data)/Starved/DataPaul476ss1_regdFF60skf182Smith20_4_96IC.nii\", \"//172.24.64.12/data/gklab/OgulcanCingiler/Paul's dff Files/MultiSense Feb 22 (dFF data)/Starved/DataPaul477ss1_regdFF60skf180Smith20_4_89IC.nii\", \"//172.24.64.12/data/gklab/OgulcanCingiler/Paul's dff Files/MultiSense Feb 22 (dFF data)/Starved/DataPaul478ss1_regdFF60skf170Smith20_4_88IC.nii\", \"//172.24.64.12/data/gklab/OgulcanCingiler/Paul's dff Files/MultiSense Feb 22 (dFF data)/Starved/DataPaul479ss1_regdFF60skf290Smith20_4_157IC.nii\", \"//172.24.64.12/data/gklab/OgulcanCingiler/Paul's dff Files/MultiSense Feb 22 (dFF data)/Starved/DataPaul480ss1_regdFF60skf226Smith20_4_117IC.nii\", \"//172.24.64.12/data/gklab/OgulcanCingiler/Paul's dff Files/MultiSense Feb 22 (dFF data)/Starved/DataPaul481ss1_regdFF60skf244Smith20_4_129IC.nii\", \"//172.24.64.12/data/gklab/OgulcanCingiler/Paul's dff Files/Odor Aug 21 (dFF data)/Fed/DataPaul275ss1_regdFF60skf144Smith20_4_71IC.nii\", \"//172.24.64.12/data/gklab/OgulcanCingiler/Paul's dff Files/Odor Aug 21 (dFF data)/Fed/DataPaul276ss1_regdFF60skf154Smith20_4_74IC.nii\", \"//172.24.64.12/data/gklab/OgulcanCingiler/Paul's dff Files/Odor Aug 21 (dFF data)/Fed/DataPaul277ss1_regdFF60skf150Smith20_4_75IC.nii\", \"//172.24.64.12/data/gklab/OgulcanCingiler/Paul's dff Files/Odor Aug 21 (dFF data)/Fed/DataPaul278ss1_regdFF60skf180Smith20_4_90IC.nii\", \"//172.24.64.12/data/gklab/OgulcanCingiler/Paul's dff Files/Odor Aug 21 (dFF data)/Fed/DataPaul279ss1_regdFF60skf190Smith20_4_97IC.nii\"])\n",
      "13\n",
      "143\n",
      "dict_keys([\"//172.24.64.12/data/gklab/OgulcanCingiler/Paul's dff Files/Odor Aug 21 (dFF data)/Fed/DataPaul280ss1_regdFF60skf186Smith20_4_95IC.nii\", \"//172.24.64.12/data/gklab/OgulcanCingiler/Paul's dff Files/Odor Aug 21 (dFF data)/Fed/DataPaul284ss1_regdFF60skf192Smith20_4_94IC.nii\", \"//172.24.64.12/data/gklab/OgulcanCingiler/Paul's dff Files/Odor Aug 21 (dFF data)/Fed/DataPaul285ss1_regdFF60skf210Smith20_4_102IC.nii\", \"//172.24.64.12/data/gklab/OgulcanCingiler/Paul's dff Files/Odor Aug 21 (dFF data)/Fed/DataPaul286ss1_regdFF60skf190Smith20_4_92IC.nii\", \"//172.24.64.12/data/gklab/OgulcanCingiler/Paul's dff Files/Odor Aug 21 (dFF data)/Fed/DataPaul290ss1_regdFF60skf146Smith20_4_73IC.nii\", \"//172.24.64.12/data/gklab/OgulcanCingiler/Paul's dff Files/Odor Aug 21 (dFF data)/Fed/DataPaul291ss1_regdFF60skf136Smith20_4_62IC.nii\", \"//172.24.64.12/data/gklab/OgulcanCingiler/Paul's dff Files/Odor Aug 21 (dFF data)/Fed/DataPaul292ss1_regdFF60skf132Smith20_4_58IC.nii\", \"//172.24.64.12/data/gklab/OgulcanCingiler/Paul's dff Files/Odor Aug 21 (dFF data)/Fed/DataPaul293ss1_regdFF60skf190Smith20_4_98IC.nii\", \"//172.24.64.12/data/gklab/OgulcanCingiler/Paul's dff Files/Odor Aug 21 (dFF data)/Fed/DataPaul294ss1_regdFF60skf180Smith20_4_88IC.nii\", \"//172.24.64.12/data/gklab/OgulcanCingiler/Paul's dff Files/Odor Aug 21 (dFF data)/Fed/DataPaul295ss1_regdFF60skf180Smith20_4_91IC.nii\", \"//172.24.64.12/data/gklab/OgulcanCingiler/Paul's dff Files/Odor Aug 21 (dFF data)/Fed/DataPaul296ss1_regdFF60skf140Smith20_4_68IC.nii\", \"//172.24.64.12/data/gklab/OgulcanCingiler/Paul's dff Files/Odor Aug 21 (dFF data)/Fed/DataPaul297ss1_regdFF60skf124Smith20_4_55IC.nii\", \"//172.24.64.12/data/gklab/OgulcanCingiler/Paul's dff Files/Odor Aug 21 (dFF data)/Fed/DataPaul298ss1_regdFF60skf154Smith20_4_68IC.nii\"])\n",
      "13\n",
      "156\n",
      "dict_keys([\"//172.24.64.12/data/gklab/OgulcanCingiler/Paul's dff Files/Odor Aug 21 (dFF data)/Fed/DataPaul299ss1_regdFF60skf174Smith20_4_88IC.nii\", \"//172.24.64.12/data/gklab/OgulcanCingiler/Paul's dff Files/Odor Aug 21 (dFF data)/Fed/DataPaul300ss1_regdFF60skf236Smith20_4_130IC.nii\", \"//172.24.64.12/data/gklab/OgulcanCingiler/Paul's dff Files/Odor Aug 21 (dFF data)/Fed/DataPaul301ss1_regdFF60skf232Smith20_4_127IC.nii\", \"//172.24.64.12/data/gklab/OgulcanCingiler/Paul's dff Files/Odor Aug 21 (dFF data)/Fed/DataPaul317ss1_regdFF60skf210Smith20_4_106IC.nii\", \"//172.24.64.12/data/gklab/OgulcanCingiler/Paul's dff Files/Odor Aug 21 (dFF data)/Fed/DataPaul318ss1_regdFF60skf214Smith20_4_109IC.nii\", \"//172.24.64.12/data/gklab/OgulcanCingiler/Paul's dff Files/Odor Aug 21 (dFF data)/Fed/DataPaul319ss1_regdFF60skf196Smith20_4_96IC.nii\", \"//172.24.64.12/data/gklab/OgulcanCingiler/Paul's dff Files/Odor Aug 21 (dFF data)/Fed/DataPaul320ss1_regdFF60skf176Smith20_4_84IC.nii\", \"//172.24.64.12/data/gklab/OgulcanCingiler/Paul's dff Files/Odor Aug 21 (dFF data)/Fed/DataPaul321ss1_regdFF60skf152Smith20_4_70IC.nii\", \"//172.24.64.12/data/gklab/OgulcanCingiler/Paul's dff Files/Odor Aug 21 (dFF data)/Fed/DataPaul322ss1_regdFF60skf148Smith20_4_69IC.nii\", \"//172.24.64.12/data/gklab/OgulcanCingiler/Paul's dff Files/Odor Aug 21 (dFF data)/Fed/DataPaul347ss1_regdFF60skf178Smith20_4_89IC.nii\", \"//172.24.64.12/data/gklab/OgulcanCingiler/Paul's dff Files/Odor Aug 21 (dFF data)/Fed/DataPaul348ss1_regdFF60skf174Smith20_4_85IC.nii\", \"//172.24.64.12/data/gklab/OgulcanCingiler/Paul's dff Files/Odor Aug 21 (dFF data)/Fed/DataPaul349ss1_regdFF60skf178Smith20_4_91IC.nii\", \"//172.24.64.12/data/gklab/OgulcanCingiler/Paul's dff Files/Odor Aug 21 (dFF data)/Fed/DataPaul350ss1_regdFF60skf146Smith20_4_71IC.nii\"])\n",
      "13\n",
      "169\n",
      "dict_keys([\"//172.24.64.12/data/gklab/OgulcanCingiler/Paul's dff Files/Odor Aug 21 (dFF data)/Fed/DataPaul351ss1_regdFF60skf132Smith20_4_60IC.nii\", \"//172.24.64.12/data/gklab/OgulcanCingiler/Paul's dff Files/Odor Aug 21 (dFF data)/Fed/DataPaul352ss1_regdFF60skf136Smith20_4_61IC.nii\", \"//172.24.64.12/data/gklab/OgulcanCingiler/Paul's dff Files/Odor Aug 21 (dFF data)/Fed/Old odor delivery system/DataPaul242ss1_regdFF20skf170Smith20_4_81IC.nii\", \"//172.24.64.12/data/gklab/OgulcanCingiler/Paul's dff Files/Odor Aug 21 (dFF data)/Fed/Old odor delivery system/DataPaul243ss1_regdFF20skf194Smith20_4_92IC.nii\", \"//172.24.64.12/data/gklab/OgulcanCingiler/Paul's dff Files/Odor Aug 21 (dFF data)/Fed/Old odor delivery system/DataPaul244ss1_regdFF20skf186Smith20_4_87IC.nii\", \"//172.24.64.12/data/gklab/OgulcanCingiler/Paul's dff Files/Odor Aug 21 (dFF data)/Fed/Old odor delivery system/DataPaul245ss1_regdFF20skf188Smith20_4_90IC.nii\", \"//172.24.64.12/data/gklab/OgulcanCingiler/Paul's dff Files/Odor Aug 21 (dFF data)/Fed/Old odor delivery system/DataPaul246ss1_regdFF20skf188Smith20_4_95IC.nii\", \"//172.24.64.12/data/gklab/OgulcanCingiler/Paul's dff Files/Odor Aug 21 (dFF data)/Fed/Old odor delivery system/DataPaul247ss1_regdFF20skf202Smith20_4_96IC.nii\", \"//172.24.64.12/data/gklab/OgulcanCingiler/Paul's dff Files/Odor Aug 21 (dFF data)/Starved/DataPaul305ss1_regdFF60skf186Smith20_4_94IC.nii\", \"//172.24.64.12/data/gklab/OgulcanCingiler/Paul's dff Files/Odor Aug 21 (dFF data)/Starved/DataPaul306ss1_regdFF60skf172Smith20_4_85IC.nii\", \"//172.24.64.12/data/gklab/OgulcanCingiler/Paul's dff Files/Odor Aug 21 (dFF data)/Starved/DataPaul307ss1_regdFF60skf184Smith20_4_89IC.nii\", \"//172.24.64.12/data/gklab/OgulcanCingiler/Paul's dff Files/Odor Aug 21 (dFF data)/Starved/DataPaul308ss1_regdFF60skf170Smith20_4_84IC.nii\", \"//172.24.64.12/data/gklab/OgulcanCingiler/Paul's dff Files/Odor Aug 21 (dFF data)/Starved/DataPaul309ss1_regdFF60skf162Smith20_4_77IC.nii\"])\n",
      "13\n",
      "182\n",
      "dict_keys([\"//172.24.64.12/data/gklab/OgulcanCingiler/Paul's dff Files/Odor Aug 21 (dFF data)/Starved/DataPaul310ss1_regdFF60skf160Smith20_4_77IC.nii\", \"//172.24.64.12/data/gklab/OgulcanCingiler/Paul's dff Files/Odor Aug 21 (dFF data)/Starved/DataPaul314ss1_regdFF60skf212Smith20_4_107IC.nii\", \"//172.24.64.12/data/gklab/OgulcanCingiler/Paul's dff Files/Odor Aug 21 (dFF data)/Starved/DataPaul315ss1_regdFF60skf200Smith20_4_96IC.nii\", \"//172.24.64.12/data/gklab/OgulcanCingiler/Paul's dff Files/Odor Aug 21 (dFF data)/Starved/DataPaul316ss1_regdFF60skf194Smith20_4_91IC.nii\", \"//172.24.64.12/data/gklab/OgulcanCingiler/Paul's dff Files/Odor Aug 21 (dFF data)/Starved/DataPaul323ss1_regdFF60skf172Smith20_4_85IC.nii\", \"//172.24.64.12/data/gklab/OgulcanCingiler/Paul's dff Files/Odor Aug 21 (dFF data)/Starved/DataPaul324ss1_regdFF60skf170Smith20_4_81IC.nii\", \"//172.24.64.12/data/gklab/OgulcanCingiler/Paul's dff Files/Odor Aug 21 (dFF data)/Starved/DataPaul325ss1_regdFF60skf172Smith20_4_80IC.nii\", \"//172.24.64.12/data/gklab/OgulcanCingiler/Paul's dff Files/Odor Aug 21 (dFF data)/Starved/DataPaul329ss1_regdFF60skf174Smith20_4_92IC.nii\", \"//172.24.64.12/data/gklab/OgulcanCingiler/Paul's dff Files/Odor Aug 21 (dFF data)/Starved/DataPaul330ss1_regdFF60skf166Smith20_4_82IC.nii\", \"//172.24.64.12/data/gklab/OgulcanCingiler/Paul's dff Files/Odor Aug 21 (dFF data)/Starved/DataPaul331ss1_regdFF60skf162Smith20_4_79IC.nii\", \"//172.24.64.12/data/gklab/OgulcanCingiler/Paul's dff Files/Odor Aug 21 (dFF data)/Starved/DataPaul332ss1_regdFF60skf192Smith20_4_102IC.nii\", \"//172.24.64.12/data/gklab/OgulcanCingiler/Paul's dff Files/Odor Aug 21 (dFF data)/Starved/DataPaul333ss1_regdFF60skf190Smith20_4_94IC.nii\", \"//172.24.64.12/data/gklab/OgulcanCingiler/Paul's dff Files/Odor Aug 21 (dFF data)/Starved/DataPaul334ss1_regdFF60skf178Smith20_4_87IC.nii\"])\n",
      "13\n",
      "195\n",
      "dict_keys([\"//172.24.64.12/data/gklab/OgulcanCingiler/Paul's dff Files/Odor Aug 21 (dFF data)/Starved/DataPaul335ss1_regdFF60skf142Smith20_4_68IC.nii\", \"//172.24.64.12/data/gklab/OgulcanCingiler/Paul's dff Files/Odor Aug 21 (dFF data)/Starved/DataPaul336ss1_regdFF60skf144Smith20_4_70IC.nii\", \"//172.24.64.12/data/gklab/OgulcanCingiler/Paul's dff Files/Odor Aug 21 (dFF data)/Starved/DataPaul337ss1_regdFF60skf144Smith20_4_67IC.nii\", \"//172.24.64.12/data/gklab/OgulcanCingiler/Paul's dff Files/Odor Aug 21 (dFF data)/Starved/DataPaul338ss1_regdFF60skf146Smith20_4_69IC.nii\", \"//172.24.64.12/data/gklab/OgulcanCingiler/Paul's dff Files/Odor Aug 21 (dFF data)/Starved/DataPaul339ss1_regdFF60skf152Smith20_4_72IC.nii\", \"//172.24.64.12/data/gklab/OgulcanCingiler/Paul's dff Files/Odor Aug 21 (dFF data)/Starved/DataPaul340ss1_regdFF60skf156Smith20_4_71IC.nii\", \"//172.24.64.12/data/gklab/OgulcanCingiler/Paul's dff Files/Odor Aug 21 (dFF data)/Starved/DataPaul341ss1_regdFF60skf170Smith20_4_80IC.nii\", \"//172.24.64.12/data/gklab/OgulcanCingiler/Paul's dff Files/Odor Aug 21 (dFF data)/Starved/DataPaul342ss1_regdFF60skf196Smith20_4_91IC.nii\", \"//172.24.64.12/data/gklab/OgulcanCingiler/Paul's dff Files/Odor Aug 21 (dFF data)/Starved/DataPaul343ss1_regdFF60skf192Smith20_4_93IC.nii\", \"//172.24.64.12/data/gklab/OgulcanCingiler/Paul's dff Files/Odor Aug 21 (dFF data)/Starved/DataPaul353ss1_regdFF60skf186Smith20_4_97IC.nii\", \"//172.24.64.12/data/gklab/OgulcanCingiler/Paul's dff Files/Odor Aug 21 (dFF data)/Starved/DataPaul354ss1_regdFF60skf168Smith20_4_79IC.nii\", \"//172.24.64.12/data/gklab/OgulcanCingiler/Paul's dff Files/Odor Aug 21 (dFF data)/Starved/DataPaul355ss1_regdFF60skf184Smith20_4_87IC.nii\", \"//172.24.64.12/data/gklab/OgulcanCingiler/Paul's dff Files/Taste (dFF data)/Paul Taste Aug 21/Fed/DataPaul359ss1_regdFF60skf226Smith20_4_124IC.nii\"])\n",
      "13\n",
      "208\n",
      "dict_keys([\"//172.24.64.12/data/gklab/OgulcanCingiler/Paul's dff Files/Taste (dFF data)/Paul Taste Aug 21/Fed/DataPaul360ss1_regdFF60skf224Smith20_4_123IC.nii\", \"//172.24.64.12/data/gklab/OgulcanCingiler/Paul's dff Files/Taste (dFF data)/Paul Taste Aug 21/Fed/DataPaul361ss1_regdFF60skf244Smith20_4_140IC.nii\", \"//172.24.64.12/data/gklab/OgulcanCingiler/Paul's dff Files/Taste (dFF data)/Paul Taste Aug 21/Fed/DataPaul368ss1_regdFF60skf176Smith20_4_77IC.nii\", \"//172.24.64.12/data/gklab/OgulcanCingiler/Paul's dff Files/Taste (dFF data)/Paul Taste Aug 21/Fed/DataPaul369ss1_regdFF60skf152Smith20_4_66IC.nii\", \"//172.24.64.12/data/gklab/OgulcanCingiler/Paul's dff Files/Taste (dFF data)/Paul Taste Aug 21/Fed/DataPaul370ss1_regdFF60skf188Smith20_4_84IC.nii\", \"//172.24.64.12/data/gklab/OgulcanCingiler/Paul's dff Files/Taste (dFF data)/Paul Taste Aug 21/Fed/Questionable/DataPaul377ss1_regdFF60skf192Smith20_4_95IC.nii\", \"//172.24.64.12/data/gklab/OgulcanCingiler/Paul's dff Files/Taste (dFF data)/Paul Taste Aug 21/Fed/Questionable/DataPaul378ss1_regdFF60skf166Smith20_4_85IC.nii\", \"//172.24.64.12/data/gklab/OgulcanCingiler/Paul's dff Files/Taste (dFF data)/Paul Taste Aug 21/Fed/Questionable/DataPaul379ss1_regdFF60skf214Smith20_4_106IC.nii\", \"//172.24.64.12/data/gklab/OgulcanCingiler/Paul's dff Files/Taste (dFF data)/Paul Taste Aug 21/Fed/Questionable/DataPaul383ss1_regdFF60skf212Smith20_4_105IC.nii\", \"//172.24.64.12/data/gklab/OgulcanCingiler/Paul's dff Files/Taste (dFF data)/Paul Taste Aug 21/Fed/Questionable/DataPaul384ss1_regdFF60skf196Smith20_4_94IC.nii\", \"//172.24.64.12/data/gklab/OgulcanCingiler/Paul's dff Files/Taste (dFF data)/Paul Taste Aug 21/Fed/Questionable/DataPaul385ss1_regdFF60skf252Smith20_4_125IC.nii\", \"//172.24.64.12/data/gklab/OgulcanCingiler/Paul's dff Files/Taste (dFF data)/Paul Taste Aug 21/Starved (unused)/DataPaul362ss1_regdFF20skf200Smith20_4_85IC.nii\", \"//172.24.64.12/data/gklab/OgulcanCingiler/Paul's dff Files/Taste (dFF data)/Paul Taste Aug 21/Starved (unused)/DataPaul363ss1_regdFF20skf224Smith20_4_92IC.nii\"])\n",
      "13\n",
      "221\n",
      "dict_keys([\"//172.24.64.12/data/gklab/OgulcanCingiler/Paul's dff Files/Taste (dFF data)/Paul Taste Aug 21/Starved (unused)/DataPaul364ss1_regdFF20skf214Smith20_4_87IC.nii\", \"//172.24.64.12/data/gklab/OgulcanCingiler/Paul's dff Files/Taste (dFF data)/Paul Taste Aug 21/Starved (unused)/DataPaul365ss1_regdFF20skf260Smith20_4_121IC.nii\", \"//172.24.64.12/data/gklab/OgulcanCingiler/Paul's dff Files/Taste (dFF data)/Paul Taste Aug 21/Starved (unused)/DataPaul366ss1_regdFF20skf254Smith20_4_110IC.nii\", \"//172.24.64.12/data/gklab/OgulcanCingiler/Paul's dff Files/Taste (dFF data)/Paul Taste Aug 21/Starved (unused)/DataPaul367ss1_regdFF20skf242Smith20_4_110IC.nii\", \"//172.24.64.12/data/gklab/OgulcanCingiler/Paul's dff Files/Taste (dFF data)/Paul Taste Aug 21/Starved (unused)/DataPaul374ss1_regdFF20skf190Smith20_4_89IC.nii\", \"//172.24.64.12/data/gklab/OgulcanCingiler/Paul's dff Files/Taste (dFF data)/Paul Taste Aug 21/Starved (unused)/DataPaul375ss1_regdFF20skf208Smith20_4_100IC.nii\", \"//172.24.64.12/data/gklab/OgulcanCingiler/Paul's dff Files/Taste (dFF data)/Paul Taste Aug 21/Starved (unused)/DataPaul376ss1_regdFF20skf204Smith20_4_98IC.nii\", \"//172.24.64.12/data/gklab/OgulcanCingiler/Paul's dff Files/Taste (dFF data)/Paul Taste Aug 21/Starved (unused)/DataPaul386ss1_regdFF20skf204Smith20_4_96IC.nii\", \"//172.24.64.12/data/gklab/OgulcanCingiler/Paul's dff Files/Taste (dFF data)/Paul Taste Aug 21/Starved (unused)/DataPaul387ss1_regdFF20skf154Smith20_4_70IC.nii\", \"//172.24.64.12/data/gklab/OgulcanCingiler/Paul's dff Files/Taste (dFF data)/Paul Taste Aug 21/Starved (unused)/DataPaul388ss1_regdFF20skf152Smith20_4_66IC.nii\", \"//172.24.64.12/data/gklab/OgulcanCingiler/Paul's dff Files/Taste (dFF data)/Taste May 2021/Alignement/MAX_DataPaul209ss1_regdFF20skf212Smith20_4_108IC.nii\", \"//172.24.64.12/data/gklab/OgulcanCingiler/Paul's dff Files/Taste (dFF data)/Taste May 2021/Fed/DataPaul184ss1_regdFF60skf200Smith20_4_114IC.nii\", \"//172.24.64.12/data/gklab/OgulcanCingiler/Paul's dff Files/Taste (dFF data)/Taste May 2021/Fed/DataPaul185ss1_regdFF60skf220Smith20_4_119IC.nii\"])\n",
      "13\n",
      "234\n",
      "dict_keys([\"//172.24.64.12/data/gklab/OgulcanCingiler/Paul's dff Files/Taste (dFF data)/Taste May 2021/Fed/DataPaul186ss1_regdFF60skf224Smith20_4_129IC.nii\", \"//172.24.64.12/data/gklab/OgulcanCingiler/Paul's dff Files/Taste (dFF data)/Taste May 2021/Fed/DataPaul193ss1_regdFF60skf230Smith20_4_117IC.nii\", \"//172.24.64.12/data/gklab/OgulcanCingiler/Paul's dff Files/Taste (dFF data)/Taste May 2021/Fed/DataPaul194ss1_regdFF60skf184Smith20_4_90IC.nii\", \"//172.24.64.12/data/gklab/OgulcanCingiler/Paul's dff Files/Taste (dFF data)/Taste May 2021/Fed/DataPaul195ss1_regdFF60skf206Smith20_4_103IC.nii\", \"//172.24.64.12/data/gklab/OgulcanCingiler/Paul's dff Files/Taste (dFF data)/Taste May 2021/Fed/DataPaul196ss1_regdFF60skf190Smith20_4_92IC.nii\", \"//172.24.64.12/data/gklab/OgulcanCingiler/Paul's dff Files/Taste (dFF data)/Taste May 2021/Fed/DataPaul197ss1_regdFF60skf204Smith20_4_107IC.nii\", \"//172.24.64.12/data/gklab/OgulcanCingiler/Paul's dff Files/Taste (dFF data)/Taste May 2021/Fed/DataPaul198ss1_regdFF60skf224Smith20_4_113IC.nii\", \"//172.24.64.12/data/gklab/OgulcanCingiler/Paul's dff Files/Taste (dFF data)/Taste May 2021/Fed/DataPaul205ss1_regdFF60skf230Smith20_4_127IC.nii\", \"//172.24.64.12/data/gklab/OgulcanCingiler/Paul's dff Files/Taste (dFF data)/Taste May 2021/Fed/DataPaul206ss1_regdFF60skf196Smith20_4_100IC.nii\", \"//172.24.64.12/data/gklab/OgulcanCingiler/Paul's dff Files/Taste (dFF data)/Taste May 2021/Fed/DataPaul207ss1_regdFF60skf236Smith20_4_118IC.nii\", \"//172.24.64.12/data/gklab/OgulcanCingiler/Paul's dff Files/Taste (dFF data)/Taste May 2021/Fed/DataPaul208ss1_regdFF60skf202Smith20_4_98IC.nii\", \"//172.24.64.12/data/gklab/OgulcanCingiler/Paul's dff Files/Taste (dFF data)/Taste May 2021/Fed/DataPaul209ss1_regdFF60skf214Smith20_4_107IC.nii\", \"//172.24.64.12/data/gklab/OgulcanCingiler/Paul's dff Files/Taste (dFF data)/Taste May 2021/Fed/DataPaul210ss1_regdFF60skf220Smith20_4_108IC.nii\"])\n",
      "13\n",
      "247\n",
      "dict_keys([\"//172.24.64.12/data/gklab/OgulcanCingiler/Paul's dff Files/Taste (dFF data)/Taste May 2021/Fed/DataPaul211ss1_regdFF60skf188Smith20_4_99IC.nii\", \"//172.24.64.12/data/gklab/OgulcanCingiler/Paul's dff Files/Taste (dFF data)/Taste May 2021/Fed/DataPaul212ss1_regdFF60skf206Smith20_4_103IC.nii\", \"//172.24.64.12/data/gklab/OgulcanCingiler/Paul's dff Files/Taste (dFF data)/Taste May 2021/Fed/DataPaul213ss1_regdFF60skf206Smith20_4_117IC.nii\", \"//172.24.64.12/data/gklab/OgulcanCingiler/Paul's dff Files/Taste (dFF data)/Taste May 2021/Starved/DataPaul214ss1_regdFF60skf198Smith20_4_95IC.nii\", \"//172.24.64.12/data/gklab/OgulcanCingiler/Paul's dff Files/Taste (dFF data)/Taste May 2021/Starved/DataPaul215ss1_regdFF60skf198Smith20_4_88IC.nii\", \"//172.24.64.12/data/gklab/OgulcanCingiler/Paul's dff Files/Taste (dFF data)/Taste May 2021/Starved/DataPaul216ss1_regdFF60skf188Smith20_4_86IC.nii\", \"//172.24.64.12/data/gklab/OgulcanCingiler/Paul's dff Files/Taste (dFF data)/Taste May 2021/Starved/DataPaul217ss1_regdFF60skf216Smith20_4_119IC.nii\", \"//172.24.64.12/data/gklab/OgulcanCingiler/Paul's dff Files/Taste (dFF data)/Taste May 2021/Starved/DataPaul218ss1_regdFF60skf190Smith20_4_94IC.nii\", \"//172.24.64.12/data/gklab/OgulcanCingiler/Paul's dff Files/Taste (dFF data)/Taste May 2021/Starved/DataPaul219ss1_regdFF60skf206Smith20_4_102IC.nii\", \"//172.24.64.12/data/gklab/OgulcanCingiler/Paul's dff Files/Taste (dFF data)/Taste May 2021/Starved/DataPaul223ss1_regdFF60skf236Smith20_4_123IC.nii\", \"//172.24.64.12/data/gklab/OgulcanCingiler/Paul's dff Files/Taste (dFF data)/Taste May 2021/Starved/DataPaul224ss1_regdFF60skf214Smith20_4_108IC.nii\", \"//172.24.64.12/data/gklab/OgulcanCingiler/Paul's dff Files/Taste (dFF data)/Taste May 2021/Starved/DataPaul225ss1_regdFF60skf288Smith20_4_155IC.nii\", \"//172.24.64.12/data/gklab/OgulcanCingiler/Paul's dff Files/Taste (dFF data)/Taste May 2021/Starved/DataPaul232ss1_regdFF60skf196Smith20_4_93IC.nii\"])\n",
      "13\n",
      "260\n",
      "dict_keys([\"//172.24.64.12/data/gklab/OgulcanCingiler/Paul's dff Files/Taste (dFF data)/Taste May 2021/Starved/DataPaul233ss1_regdFF60skf200Smith20_4_93IC.nii\", \"//172.24.64.12/data/gklab/OgulcanCingiler/Paul's dff Files/Taste (dFF data)/Taste May 2021/Starved/DataPaul234ss1_regdFF60skf192Smith20_4_90IC.nii\", \"//172.24.64.12/data/gklab/OgulcanCingiler/Paul's dff Files/Taste (dFF data)/Taste May 2021/Starved/DataPaul235ss1_regdFF60skf214Smith20_4_109IC.nii\", \"//172.24.64.12/data/gklab/OgulcanCingiler/Paul's dff Files/Taste (dFF data)/Taste May 2021/Starved/DataPaul236ss1_regdFF60skf176Smith20_4_85IC.nii\", \"//172.24.64.12/data/gklab/OgulcanCingiler/Paul's dff Files/Taste (dFF data)/Taste May 2021/Starved/DataPaul237ss1_regdFF60skf170Smith20_4_81IC.nii\", \"//172.24.64.12/data/gklab/OgulcanCingiler/Paul's dff Files/Taste (dFF data)/Taste May 2021/Starved/DataPaul239ss1_regdFF60skf150Smith20_4_74IC.nii\", \"//172.24.64.12/data/gklab/OgulcanCingiler/Paul's dff Files/Taste (dFF data)/Taste May 2021/Starved/DataPaul240ss1_regdFF60skf128Smith20_4_57IC.nii\", \"//172.24.64.12/data/gklab/OgulcanCingiler/Paul's dff Files/Taste (dFF data)/Taste May 2021/Starved/DataPaul241ss1_regdFF60skf148Smith20_4_66IC.nii\", \"//172.24.64.12/data/gklab/OgulcanCingiler/Paul's dff Files/Taste (dFF data)/Taste Nov 21/Fed/DataPaul401ss1_regdFF60skf130Smith20_4_58IC.nii\", \"//172.24.64.12/data/gklab/OgulcanCingiler/Paul's dff Files/Taste (dFF data)/Taste Nov 21/Fed/DataPaul402ss1_regdFF60skf128Smith20_4_55IC.nii\", \"//172.24.64.12/data/gklab/OgulcanCingiler/Paul's dff Files/Taste (dFF data)/Taste Nov 21/Fed/DataPaul403ss1_regdFF60skf138Smith20_4_60IC.nii\", \"//172.24.64.12/data/gklab/OgulcanCingiler/Paul's dff Files/Taste (dFF data)/Taste Nov 21/Fed/DataPaul404ss1_regdFF60skf206Smith20_4_97IC.nii\", \"//172.24.64.12/data/gklab/OgulcanCingiler/Paul's dff Files/Taste (dFF data)/Taste Nov 21/Fed/DataPaul405ss1_regdFF60skf202Smith20_4_94IC.nii\"])\n",
      "13\n",
      "273\n",
      "dict_keys([\"//172.24.64.12/data/gklab/OgulcanCingiler/Paul's dff Files/Taste (dFF data)/Taste Nov 21/Fed/DataPaul406ss1_regdFF60skf196Smith20_4_90IC.nii\", \"//172.24.64.12/data/gklab/OgulcanCingiler/Paul's dff Files/Taste (dFF data)/Taste Nov 21/Starved/DataPaul389ss1_regdFF60skf226Smith20_4_110IC.nii\", \"//172.24.64.12/data/gklab/OgulcanCingiler/Paul's dff Files/Taste (dFF data)/Taste Nov 21/Starved/DataPaul390ss1_regdFF60skf214Smith20_4_107IC.nii\", \"//172.24.64.12/data/gklab/OgulcanCingiler/Paul's dff Files/Taste (dFF data)/Taste Nov 21/Starved/DataPaul391ss1_regdFF60skf218Smith20_4_104IC.nii\", \"//172.24.64.12/data/gklab/OgulcanCingiler/Paul's dff Files/Taste (dFF data)/Taste Nov 21/Starved/DataPaul392ss1_regdFF60skf208Smith20_4_104IC.nii\", \"//172.24.64.12/data/gklab/OgulcanCingiler/Paul's dff Files/Taste (dFF data)/Taste Nov 21/Starved/DataPaul393ss1_regdFF60skf206Smith20_4_96IC.nii\", \"//172.24.64.12/data/gklab/OgulcanCingiler/Paul's dff Files/Taste (dFF data)/Taste Nov 21/Starved/DataPaul394ss1_regdFF60skf220Smith20_4_102IC.nii\", \"//172.24.64.12/data/gklab/OgulcanCingiler/Paul's dff Files/Taste (dFF data)/Taste Nov 21/Starved/DataPaul395ss1_regdFF60skf174Smith20_4_86IC.nii\", \"//172.24.64.12/data/gklab/OgulcanCingiler/Paul's dff Files/Taste (dFF data)/Taste Nov 21/Starved/DataPaul396ss1_regdFF60skf166Smith20_4_80IC.nii\", \"//172.24.64.12/data/gklab/OgulcanCingiler/Paul's dff Files/Taste (dFF data)/Taste Nov 21/Starved/DataPaul397ss1_regdFF60skf198Smith20_4_92IC.nii\", \"//172.24.64.12/data/gklab/OgulcanCingiler/Paul's dff Files/Taste (dFF data)/Taste Nov 21/Starved/DataPaul398ss1_regdFF60skf184Smith20_4_89IC.nii\", \"//172.24.64.12/data/gklab/OgulcanCingiler/Paul's dff Files/Taste (dFF data)/Taste Nov 21/Starved/DataPaul399ss1_regdFF60skf192Smith20_4_86IC.nii\", \"//172.24.64.12/data/gklab/OgulcanCingiler/Paul's dff Files/Taste (dFF data)/Taste Nov 21/Starved/DataPaul400ss1_regdFF60skf188Smith20_4_85IC.nii\"])\n",
      "13\n",
      "286\n",
      "Accuracy for model with  200  clusters is  0.7325581395348837\n"
     ]
    }
   ],
   "source": [
    "if train_classifier:\n",
    "    batch_size = 13\n",
    "    batch_ics = []\n",
    "    for ic_file in ic_paths[0:batch_size]:\n",
    "        ic = nib.load(ic_file)\n",
    "        batch_ics.append(ic)\n",
    "    training_df = create_training_df(batch_ics,km)\n",
    "    for i in range(batch_size,len(ic_paths),batch_size):\n",
    "            batch_ics = []\n",
    "            for ic_file in ic_paths[i:i+batch_size]:\n",
    "                ic = nib.load(ic_file)\n",
    "                batch_ics.append(ic)\n",
    "            training_df = pd.concat([training_df,create_training_df(batch_ics,km)])\n",
    "            print(len(training_df))\n",
    "            training_df.to_csv('DataframesFromClustering/training_df_'+str(len(km.cluster_centers_))+'clusters_max_projected.csv')\n",
    "    #Train a random forest with training \n",
    "    X=training_df.drop(columns=[\"ic_paths\",\"starved_fed\",\"odor_taste\"])\n",
    "    y_odor = training_df[\"odor_taste\"]\n",
    "    rf = RandomForestClassifier(n_estimators = 5000)\n",
    "\n",
    "    #Do a train test split and see the accuracy\n",
    "    X_train, X_test, y_train, y_test = train_test_split(X, y_odor, test_size=0.3, random_state=42)\n",
    "\n",
    "    rf.fit(X_train,y_train)\n",
    "    y_pred = rf.predict(X_test)\n",
    "    print(\"Accuracy for model with \",len(km.cluster_centers_),\" clusters is \",accuracy_score(y_test,y_pred))\n"
   ]
  },
  {
   "cell_type": "markdown",
   "metadata": {},
   "source": [
    "This function is necessary for displaying cluster centers in depth order, so that the bad clusters can be selected"
   ]
  },
  {
   "cell_type": "code",
   "execution_count": 21,
   "metadata": {},
   "outputs": [],
   "source": [
    "\n",
    "def display_cluster_centers_in_depth_order(cluster_centers,n=0):\n",
    "    #cluster_centers = km.cluster_centers_\n",
    "\n",
    "    row_idxs = np.argsort(np.mean(cluster_centers * -1, axis=1))\n",
    "\n",
    "    sorted_cluster_centers = cluster_centers[row_idxs]\n",
    "    center = sorted_cluster_centers[n]\n",
    "    \n",
    "    plt.imshow(center.reshape(resize_resolution[1],resize_resolution[0]), interpolation='nearest', cmap='gray')\n",
    "    plt.title(\"Cluster \"+str(row_idxs[n]) + \"Slice: \"+str(center.mean()//1000))"
   ]
  },
  {
   "cell_type": "code",
   "execution_count": 22,
   "metadata": {},
   "outputs": [
    {
     "data": {
      "application/vnd.jupyter.widget-view+json": {
       "model_id": "8ad17ff644bb46b193d08b763f67a845",
       "version_major": 2,
       "version_minor": 0
      },
      "text/plain": [
       "interactive(children=(IntSlider(value=0, description='n', max=39), Output()), _dom_classes=('widget-interact',…"
      ]
     },
     "metadata": {},
     "output_type": "display_data"
    }
   ],
   "source": [
    "#Make an interactive plot using ipywidgets so that we can see the cluster centers in depth order with a slider to select\n",
    "#the cluster\n",
    "if plot_centers_in_depth_order:\n",
    "    interact(display_cluster_centers_in_depth_order,cluster_centers=fixed(km.cluster_centers_),n=(0,len(km.cluster_centers_)-1))"
   ]
  },
  {
   "cell_type": "markdown",
   "metadata": {},
   "source": [
    "<h4>Here we select the bad and good clusters </h4>\n",
    "The idea is, after the selection of -either the good or the bad- clusters the code can go over all the images in all the IC files and discard the bad ones and save only the good ones\n"
   ]
  },
  {
   "cell_type": "code",
   "execution_count": 23,
   "metadata": {},
   "outputs": [],
   "source": [
    "#I selected some clusters as the bad ones\n",
    "bad_clusters = [1,5,10,190]\n"
   ]
  },
  {
   "cell_type": "markdown",
   "metadata": {},
   "source": [
    "Deleting all the bad ICs"
   ]
  },
  {
   "cell_type": "code",
   "execution_count": 24,
   "metadata": {},
   "outputs": [],
   "source": [
    "def clean_and_save_ics(ics,bad_clusters,km,clean_ic_folder):\n",
    "\n",
    "    for ic in ics:\n",
    "        ic_data = ic.get_fdata().T\n",
    "        max_projected_ic_data = ic_data.max(axis=0)\n",
    "        cleaned_ic = []\n",
    "\n",
    "        #Here we create a filename based on the original file.You can change it as you like\n",
    "        cleaned_ic_path = clean_ic_folder +'/'+'_'.join(ic.get_filename().replace('.nii','').split('/')[-3:])+'MAX_PROJECTED_CLEANED.nii'\n",
    "        for i,frame in enumerate(max_projected_ic_data):\n",
    "            #We match the shape of the data that the kmeans was trained with\n",
    "            #flattened_frame = frame.reshape(frame.shape[0]*frame.shape[1])[0:km.cluster_centers_.shape[1]]\n",
    "            #The 1000*i is for encoding the depth value of the frame\n",
    "            flattened_frame = cv2.resize(frame, (80,135),interpolation=cv2.INTER_AREA).reshape(135*80)+1000*i\n",
    "            predicted_cluster = km.predict([flattened_frame])\n",
    "           \n",
    "            if predicted_cluster not in bad_clusters:\n",
    "                cleaned_ic.append(frame)\n",
    "        cleaned_ic = np.array(cleaned_ic)\n",
    "        img = nib.Nifti1Image(cleaned_ic.T, np.eye(4))\n",
    "        nib.save(img,cleaned_ic_path )    "
   ]
  },
  {
   "cell_type": "markdown",
   "metadata": {},
   "source": [
    "Below I only use random ICs to clean and save the IC files based on the bad ics list, but one can use all the ics by loading them like:\n",
    "\n",
    "```python\n",
    "all_ics = []\n",
    "for ic_file in ics: \n",
    "    ic = nib.load(ic_file) \n",
    "    all_ics.append(ic)\n",
    "    "
   ]
  },
  {
   "cell_type": "code",
   "execution_count": 25,
   "metadata": {},
   "outputs": [],
   "source": [
    "clean_and_save_ics(random_ics,bad_clusters,km,'CleanedICs')"
   ]
  },
  {
   "cell_type": "code",
   "execution_count": null,
   "metadata": {},
   "outputs": [],
   "source": []
  }
 ],
 "metadata": {
  "kernelspec": {
   "display_name": "Python 3 (ipykernel)",
   "language": "python",
   "name": "python3"
  },
  "language_info": {
   "codemirror_mode": {
    "name": "ipython",
    "version": 3
   },
   "file_extension": ".py",
   "mimetype": "text/x-python",
   "name": "python",
   "nbconvert_exporter": "python",
   "pygments_lexer": "ipython3",
   "version": "3.12.2"
  }
 },
 "nbformat": 4,
 "nbformat_minor": 4
}
